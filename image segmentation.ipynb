# Verify files exist
if not os.path.exists(img_path) or not os.path.exists(mask_path):
    continue

# Get basic metadata
img = Image.open(img_path)
mask = Image.open(mask_path)

data.append({
    "image_id": img_id,
    "image_path": os.path.relpath(img_path, start=base_dir).replace("\\", "/"),
    "mask_path": os.path.relpath(mask_path, start=base_dir).replace("\\", "/"),
    "image_size": img.size,
    "mask_size": mask.size
})
